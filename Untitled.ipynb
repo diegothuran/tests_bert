{
 "cells": [
  {
   "cell_type": "code",
   "execution_count": 1,
   "id": "30d51a9d-c24a-4ea3-b7bd-54ab081191cd",
   "metadata": {},
   "outputs": [],
   "source": [
    "import pandas as pd\n",
    "import os\n",
    "import re"
   ]
  },
  {
   "cell_type": "code",
   "execution_count": 2,
   "id": "537007de-81f4-4ca8-ad16-1083f884ffd9",
   "metadata": {},
   "outputs": [],
   "source": [
    "df = pd.read_csv('Insync/diegothuran@hotmail.com/OneDrive/base.csv')"
   ]
  },
  {
   "cell_type": "code",
   "execution_count": 3,
   "id": "ad74951f-cae1-4136-8f07-fd308d48a047",
   "metadata": {},
   "outputs": [
    {
     "data": {
      "text/html": [
       "<div>\n",
       "<style scoped>\n",
       "    .dataframe tbody tr th:only-of-type {\n",
       "        vertical-align: middle;\n",
       "    }\n",
       "\n",
       "    .dataframe tbody tr th {\n",
       "        vertical-align: top;\n",
       "    }\n",
       "\n",
       "    .dataframe thead th {\n",
       "        text-align: right;\n",
       "    }\n",
       "</style>\n",
       "<table border=\"1\" class=\"dataframe\">\n",
       "  <thead>\n",
       "    <tr style=\"text-align: right;\">\n",
       "      <th></th>\n",
       "      <th>Unnamed: 0</th>\n",
       "      <th>id</th>\n",
       "      <th>text</th>\n",
       "      <th>text_pt</th>\n",
       "    </tr>\n",
       "  </thead>\n",
       "  <tbody>\n",
       "    <tr>\n",
       "      <th>0</th>\n",
       "      <td>0</td>\n",
       "      <td>17017097</td>\n",
       "      <td>Económica, no da olor y muy efectiva</td>\n",
       "      <td>Translated(src=es, dest=pt, text=Econômico, in...</td>\n",
       "    </tr>\n",
       "    <tr>\n",
       "      <th>1</th>\n",
       "      <td>1</td>\n",
       "      <td>17017142</td>\n",
       "      <td>Buena capacidad \\nLavado espectacular\\nSilenciosa</td>\n",
       "      <td>Translated(src=es, dest=pt, text=boa capacidad...</td>\n",
       "    </tr>\n",
       "    <tr>\n",
       "      <th>2</th>\n",
       "      <td>2</td>\n",
       "      <td>17017143</td>\n",
       "      <td>No es muy silenciosocioso</td>\n",
       "      <td>Translated(src=es, dest=pt, text=não é muito t...</td>\n",
       "    </tr>\n",
       "    <tr>\n",
       "      <th>3</th>\n",
       "      <td>3</td>\n",
       "      <td>17017167</td>\n",
       "      <td>No lava bien ,solo mueve la ropa dentro muy le...</td>\n",
       "      <td>Translated(src=es, dest=pt, text=Não lava bem,...</td>\n",
       "    </tr>\n",
       "    <tr>\n",
       "      <th>4</th>\n",
       "      <td>4</td>\n",
       "      <td>17017193</td>\n",
       "      <td>El producto nunca me llego, y no me responden ...</td>\n",
       "      <td>Translated(src=es, dest=pt, text=O produto nun...</td>\n",
       "    </tr>\n",
       "  </tbody>\n",
       "</table>\n",
       "</div>"
      ],
      "text/plain": [
       "   Unnamed: 0        id                                               text  \\\n",
       "0           0  17017097               Económica, no da olor y muy efectiva   \n",
       "1           1  17017142  Buena capacidad \\nLavado espectacular\\nSilenciosa   \n",
       "2           2  17017143                          No es muy silenciosocioso   \n",
       "3           3  17017167  No lava bien ,solo mueve la ropa dentro muy le...   \n",
       "4           4  17017193  El producto nunca me llego, y no me responden ...   \n",
       "\n",
       "                                             text_pt  \n",
       "0  Translated(src=es, dest=pt, text=Econômico, in...  \n",
       "1  Translated(src=es, dest=pt, text=boa capacidad...  \n",
       "2  Translated(src=es, dest=pt, text=não é muito t...  \n",
       "3  Translated(src=es, dest=pt, text=Não lava bem,...  \n",
       "4  Translated(src=es, dest=pt, text=O produto nun...  "
      ]
     },
     "execution_count": 3,
     "metadata": {},
     "output_type": "execute_result"
    }
   ],
   "source": [
    "df.head()"
   ]
  },
  {
   "cell_type": "code",
   "execution_count": null,
   "id": "6981700e-851d-43fc-b127-72e3c9767365",
   "metadata": {},
   "outputs": [],
   "source": []
  }
 ],
 "metadata": {
  "kernelspec": {
   "display_name": "Python 3 (ipykernel)",
   "language": "python",
   "name": "python3"
  },
  "language_info": {
   "codemirror_mode": {
    "name": "ipython",
    "version": 3
   },
   "file_extension": ".py",
   "mimetype": "text/x-python",
   "name": "python",
   "nbconvert_exporter": "python",
   "pygments_lexer": "ipython3",
   "version": "3.9.16"
  }
 },
 "nbformat": 4,
 "nbformat_minor": 5
}
